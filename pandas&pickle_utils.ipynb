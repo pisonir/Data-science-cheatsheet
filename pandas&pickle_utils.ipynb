{
 "cells": [
  {
   "cell_type": "markdown",
   "metadata": {},
   "source": [
    "# Pandas"
   ]
  },
  {
   "cell_type": "code",
   "execution_count": 1,
   "metadata": {},
   "outputs": [],
   "source": [
    "import pandas as pd\n",
    "\n",
    "from functools import reduce\n",
    "\n",
    "from collections import Counter"
   ]
  },
  {
   "cell_type": "code",
   "execution_count": null,
   "metadata": {},
   "outputs": [],
   "source": [
    "df = pd.read_csv('filename.csv', sep=';', index_col=0)\n",
    "print(df.shape)\n",
    "df = pd.read_excel('filename.xlsx', sheetname='Sheet1', skiprows=2)\n",
    "\n",
    "\n",
    "# grouping\n",
    "df_grouped = df.groupby(['A','B'])['C'].count().reset_index().rename(columns={'C':'count'})\n",
    "\n",
    "df_grouped = (df\n",
    "             .groupby(['A','B'])['C']\n",
    "             .count()\n",
    "             .reset_index(name='count'))\n",
    "\n",
    "df_grouped = df.groupby(['A','B'], as_index=False)['C'].max().rename(columns={'C':'count'})\n",
    "...        = df.groupby('A')['B'].nunique() # group by A and count all the DISTINCT B values\n",
    "\n",
    "\n",
    "# pivot table\n",
    "df_pivot = pd.pivot_table(df, values='count', index='id', columns=['game name'], \n",
    "                          aggfunc=np.sum, fill_value=0).add_suffix('_count')\n",
    "\n",
    "\n",
    "# concatenate\n",
    "df_concat = pd.concat([df1,df2], axis=0, sort=False, ignore_index=True)\n",
    "\n",
    "\n",
    "# merging\n",
    "df_merged = pd.merge(df1, df2, on='A', how={'left','right','outer','inner'})\n",
    "\n",
    "dfs = [df1,df2,df3,df4]\n",
    "...       = reduce(lambda left,right: pd.merge(left, right, on='A', how='inner'), dfs)\n",
    "\n",
    "\n",
    "# slicing dataframe\n",
    "df = df[(df['A']=='ciao') & (df['B'].isin([1,2,3,4]))]\n",
    "\n",
    "\n",
    "# sorting values\n",
    "df.sort_values(by=['A','B'], ascending=False, inplace=True, ignore_index=True)\n",
    "\n",
    "\n",
    "# counter\n",
    "count = Counter(df['A'].to_list()).most_common() # the most_common() module sorts values\n",
    "\n",
    "\n",
    "# to datetime\n",
    "df['date'] = pd.to_datetime(df['date'])\n",
    "df['year-month'] = [d.strftime('%Y-%m') for d in df['date']] # to get 2019-02\n",
    "\n",
    "\n",
    "# apply\n",
    "df = df.apply(lambda x: x**2, axis=0) # apply a function along an axis of the DataFrame\n",
    "df['A'] = df['A'].apply(lambda x: x+2)\n",
    "\n",
    "\n",
    "# fill NaN\n",
    "df.fillna(0, inplace=True)\n",
    "df[~df['A'].isna()] # get all the values where 'A' is NOT NaN\n",
    "df.isnull().values.any() # checks if the df has NaN values\n",
    "\n",
    "# where and mask\n",
    "df.where(df[cols]>10, 0) # where df[cols] values are < 10 replace value with 0\n",
    "df.mask(df[cols]>10, 0) # where df[cols] values are > 10 replace value with 0"
   ]
  },
  {
   "cell_type": "code",
   "execution_count": 2,
   "metadata": {},
   "outputs": [
    {
     "data": {
      "text/html": [
       "<div>\n",
       "<style scoped>\n",
       "    .dataframe tbody tr th:only-of-type {\n",
       "        vertical-align: middle;\n",
       "    }\n",
       "\n",
       "    .dataframe tbody tr th {\n",
       "        vertical-align: top;\n",
       "    }\n",
       "\n",
       "    .dataframe thead th {\n",
       "        text-align: right;\n",
       "    }\n",
       "</style>\n",
       "<table border=\"1\" class=\"dataframe\">\n",
       "  <thead>\n",
       "    <tr style=\"text-align: right;\">\n",
       "      <th></th>\n",
       "      <th>A</th>\n",
       "      <th>B</th>\n",
       "    </tr>\n",
       "  </thead>\n",
       "  <tbody>\n",
       "    <tr>\n",
       "      <th>0</th>\n",
       "      <td>0</td>\n",
       "      <td>0</td>\n",
       "    </tr>\n",
       "    <tr>\n",
       "      <th>1</th>\n",
       "      <td>0</td>\n",
       "      <td>0</td>\n",
       "    </tr>\n",
       "    <tr>\n",
       "      <th>2</th>\n",
       "      <td>3</td>\n",
       "      <td>1</td>\n",
       "    </tr>\n",
       "    <tr>\n",
       "      <th>3</th>\n",
       "      <td>4</td>\n",
       "      <td>1</td>\n",
       "    </tr>\n",
       "  </tbody>\n",
       "</table>\n",
       "</div>"
      ],
      "text/plain": [
       "   A  B\n",
       "0  0  0\n",
       "1  0  0\n",
       "2  3  1\n",
       "3  4  1"
      ]
     },
     "execution_count": 2,
     "metadata": {},
     "output_type": "execute_result"
    }
   ],
   "source": [
    "df = pd.DataFrame({'A':[1,2,3,4], 'B':[1,1,1,1]})\n",
    "df.where(df['A']>2, 0)"
   ]
  },
  {
   "cell_type": "code",
   "execution_count": 3,
   "metadata": {},
   "outputs": [
    {
     "data": {
      "text/html": [
       "<div>\n",
       "<style scoped>\n",
       "    .dataframe tbody tr th:only-of-type {\n",
       "        vertical-align: middle;\n",
       "    }\n",
       "\n",
       "    .dataframe tbody tr th {\n",
       "        vertical-align: top;\n",
       "    }\n",
       "\n",
       "    .dataframe thead th {\n",
       "        text-align: right;\n",
       "    }\n",
       "</style>\n",
       "<table border=\"1\" class=\"dataframe\">\n",
       "  <thead>\n",
       "    <tr style=\"text-align: right;\">\n",
       "      <th></th>\n",
       "      <th>A</th>\n",
       "      <th>B</th>\n",
       "    </tr>\n",
       "  </thead>\n",
       "  <tbody>\n",
       "    <tr>\n",
       "      <th>0</th>\n",
       "      <td>1</td>\n",
       "      <td>1</td>\n",
       "    </tr>\n",
       "    <tr>\n",
       "      <th>1</th>\n",
       "      <td>2</td>\n",
       "      <td>1</td>\n",
       "    </tr>\n",
       "    <tr>\n",
       "      <th>2</th>\n",
       "      <td>0</td>\n",
       "      <td>0</td>\n",
       "    </tr>\n",
       "    <tr>\n",
       "      <th>3</th>\n",
       "      <td>0</td>\n",
       "      <td>0</td>\n",
       "    </tr>\n",
       "  </tbody>\n",
       "</table>\n",
       "</div>"
      ],
      "text/plain": [
       "   A  B\n",
       "0  1  1\n",
       "1  2  1\n",
       "2  0  0\n",
       "3  0  0"
      ]
     },
     "execution_count": 3,
     "metadata": {},
     "output_type": "execute_result"
    }
   ],
   "source": [
    "df.mask(df['A']>2, 0)"
   ]
  },
  {
   "cell_type": "markdown",
   "metadata": {},
   "source": [
    "# Pickle"
   ]
  },
  {
   "cell_type": "code",
   "execution_count": 3,
   "metadata": {},
   "outputs": [],
   "source": [
    "import pickle"
   ]
  },
  {
   "cell_type": "code",
   "execution_count": null,
   "metadata": {},
   "outputs": [],
   "source": [
    "pickle.dump(df, open('results.p', 'wb'))\n",
    "\n",
    "df = pickle.load(open('result.p', 'rb'))"
   ]
  }
 ],
 "metadata": {
  "kernelspec": {
   "display_name": "Python 3",
   "language": "python",
   "name": "python3"
  },
  "language_info": {
   "codemirror_mode": {
    "name": "ipython",
    "version": 3
   },
   "file_extension": ".py",
   "mimetype": "text/x-python",
   "name": "python",
   "nbconvert_exporter": "python",
   "pygments_lexer": "ipython3",
   "version": "3.6.4"
  },
  "toc": {
   "base_numbering": 1,
   "nav_menu": {},
   "number_sections": true,
   "sideBar": true,
   "skip_h1_title": false,
   "title_cell": "Table of Contents",
   "title_sidebar": "Contents",
   "toc_cell": false,
   "toc_position": {},
   "toc_section_display": true,
   "toc_window_display": false
  }
 },
 "nbformat": 4,
 "nbformat_minor": 2
}
